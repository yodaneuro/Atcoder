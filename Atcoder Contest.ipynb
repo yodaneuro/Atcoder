{
 "cells": [
  {
   "cell_type": "code",
   "execution_count": 11,
   "metadata": {},
   "outputs": [
    {
     "name": "stdout",
     "output_type": "stream",
     "text": [
      "10 3 4\n",
      "0\n"
     ]
    }
   ],
   "source": [
    "#入力　　A B C\n",
    "s = input()\n",
    "t =s.split()\n",
    "a = int(t[0])\n",
    "b = int(t[1])\n",
    "c = int(t[2])\n",
    "if c+b-a >= 0:\n",
    "    answer = c+b-a\n",
    "else:\n",
    "    answer = 0\n",
    "print(answer)"
   ]
  },
  {
   "cell_type": "code",
   "execution_count": 14,
   "metadata": {},
   "outputs": [
    {
     "name": "stdout",
     "output_type": "stream",
     "text": [
      "12 5 10\n",
      "3\n"
     ]
    }
   ],
   "source": [
    "#入力　　A B C\n",
    "s = input()\n",
    "t =s.split()\n",
    "a = int(t[0])\n",
    "b = int(t[1])\n",
    "c = int(t[2])\n",
    "\n",
    "answer = max(0,c+b-a)\n",
    "\n",
    "print(answer)"
   ]
  },
  {
   "cell_type": "code",
   "execution_count": 18,
   "metadata": {},
   "outputs": [
    {
     "name": "stdout",
     "output_type": "stream",
     "text": [
      "100000\n",
      "90909\n"
     ]
    }
   ],
   "source": [
    "# nの入力\n",
    "n = int(input())\n",
    "print(len(list(filter(lambda x: len(str(x)) % 2 == 1, range(1, n + 1)))))"
   ]
  },
  {
   "cell_type": "code",
   "execution_count": 22,
   "metadata": {},
   "outputs": [
    {
     "name": "stdout",
     "output_type": "stream",
     "text": [
      "1\n",
      "10000000\n",
      "1 [10000000]\n",
      "Yes\n",
      "[9999999]\n"
     ]
    }
   ],
   "source": [
    "import sys\n",
    "# 入力\n",
    "n = input()\n",
    "h = list(map(int,input().split()))\n",
    "print(n,h)\n",
    "\n",
    "def ki(h):\n",
    "    if h[0] > 1:\n",
    "        h[0] = h[0] -1\n",
    "    a=1\n",
    "    for i in h[1:]:   # 左から右に１つずつデータ取り出す　できるだけ左は低くする\n",
    "        if i < h[a-1] :  #１つ左よりも小さければ\n",
    "            return(\"No\")\n",
    "        elif i != h[a-1]:  #左とイコールでない = 大きいということ　=　低くできる\n",
    "            h[a] = h[a] - 1 # 1つ低くする\n",
    "        a += 1\n",
    "    return(\"Yes\")\n",
    "print(ki(h))    \n",
    "print(h)"
   ]
  },
  {
   "cell_type": "code",
   "execution_count": 25,
   "metadata": {},
   "outputs": [
    {
     "name": "stdout",
     "output_type": "stream",
     "text": [
      "5\n",
      "1 4 4 3 2\n",
      "No\n"
     ]
    }
   ],
   "source": [
    "n = input()\n",
    "h = list(map(int,input().split()))\n",
    "def ki(h):\n",
    "    if h[0] > 1:\n",
    "        h[0] = h[0] -1\n",
    "    a=1\n",
    "    for i in h[1:]:  \n",
    "        if i < h[a-1] :  \n",
    "            return(\"No\")\n",
    "        elif i != h[a-1]:  \n",
    "            h[a] = h[a] - 1 \n",
    "        a += 1\n",
    "    return(\"Yes\")\n",
    "print(ki(h))    "
   ]
  },
  {
   "cell_type": "code",
   "execution_count": null,
   "metadata": {},
   "outputs": [
    {
     "name": "stdout",
     "output_type": "stream",
     "text": [
      "RRLRL\n",
      "['R', 'R', 'L', 'R', 'L'] [1, 1, 1, 1, 1]\n"
     ]
    }
   ],
   "source": [
    "S = list(input())\n",
    "n = len(S)\n",
    "p = [1 for i in range(n)]\n",
    "print(S,p)\n",
    "\n",
    "for i in range(10**100):\n",
    "    for j in range(n):\n",
    "        p[j] -= 1\n",
    "        if S[j] == \"R\":\n",
    "            p[j+1] += 1\n",
    "        p[j-1] += 1\n",
    "print(p)"
   ]
  },
  {
   "cell_type": "code",
   "execution_count": 4,
   "metadata": {},
   "outputs": [
    {
     "name": "stdout",
     "output_type": "stream",
     "text": [
      "xoo\n",
      "900\n"
     ]
    }
   ],
   "source": [
    "s=str(input())\n",
    "print(700+100*s.count(\"o\"))"
   ]
  },
  {
   "cell_type": "code",
   "execution_count": 4,
   "metadata": {},
   "outputs": [
    {
     "name": "stdout",
     "output_type": "stream",
     "text": [
      "4049\n",
      "red\n",
      "red\n"
     ]
    }
   ],
   "source": [
    "a=int(input())\n",
    "s=str(input())\n",
    "print(s if a>=3200 else \"red\")"
   ]
  },
  {
   "cell_type": "code",
   "execution_count": 9,
   "metadata": {},
   "outputs": [
    {
     "name": "stdout",
     "output_type": "stream",
     "text": [
      "1\n",
      "1000\n",
      "1000.0\n"
     ]
    }
   ],
   "source": [
    "n=int(input())\n",
    "N= list(map(int,input().split()))\n",
    "a=0\n",
    "for i in range(n):\n",
    "    a=a+1/N[i]\n",
    "print(1/a)"
   ]
  },
  {
   "cell_type": "code",
   "execution_count": 6,
   "metadata": {},
   "outputs": [
    {
     "name": "stdout",
     "output_type": "stream",
     "text": [
      "5 [1, 2, 3, 5, 6]\n"
     ]
    }
   ],
   "source": [
    "print(n,N)"
   ]
  },
  {
   "cell_type": "code",
   "execution_count": 18,
   "metadata": {},
   "outputs": [
    {
     "name": "stdout",
     "output_type": "stream",
     "text": [
      "5\n",
      "138 138 138 138 138\n",
      "138.0\n"
     ]
    }
   ],
   "source": [
    "n=int(input())\n",
    "v= sorted(list(map(int,input().split())))\n",
    "S=v[0]\n",
    "for i in range(1,n):\n",
    "    S+=2**(i-1)*v[i]\n",
    "print(S/(2**(n-1)))"
   ]
  },
  {
   "cell_type": "code",
   "execution_count": 12,
   "metadata": {},
   "outputs": [
    {
     "name": "stdout",
     "output_type": "stream",
     "text": [
      "3 [200, 300, 500]\n"
     ]
    }
   ],
   "source": [
    "print(n,v)"
   ]
  },
  {
   "cell_type": "code",
   "execution_count": 34,
   "metadata": {},
   "outputs": [
    {
     "name": "stdout",
     "output_type": "stream",
     "text": [
      "4 3\n",
      "1 2\n",
      "2 3\n",
      "2 4\n",
      "2 10\n",
      "1 100\n",
      "3 1\n"
     ]
    }
   ],
   "source": [
    "n,q=map(int,input().split())\n",
    "A=[]\n",
    "B=[]\n",
    "for i in range(n-1):\n",
    "    a,b=map(int,input().split())\n",
    "    A.append(a)\n",
    "    B.append(b)\n",
    "P=[]\n",
    "Q=[]\n",
    "for j in range(n-1):\n",
    "    p,q=map(int,input().split())\n",
    "    P.append(p)\n",
    "    Q.append(q)"
   ]
  },
  {
   "cell_type": "code",
   "execution_count": 39,
   "metadata": {},
   "outputs": [],
   "source": [
    "#数のつながりを辞書でつくる！\n",
    "dic={}\n",
    "for i in range(n-1):\n",
    "    if A[i] not in dic:\n",
    "        dic[A[i]]=[]\n",
    "        dic[A[i]].append(B[i])\n",
    "    else: dic[A[i]].append(B[i])\n",
    "    if B[i] not in dic:\n",
    "        dic[B[i]]=[]\n",
    "        dic[B[i]].append(A[i])\n",
    "    else: dic[B[i]].append(A[i])"
   ]
  },
  {
   "cell_type": "code",
   "execution_count": 40,
   "metadata": {},
   "outputs": [
    {
     "data": {
      "text/plain": [
       "{1: [2], 2: [1, 3, 4], 3: [2], 4: [2]}"
      ]
     },
     "execution_count": 40,
     "metadata": {},
     "output_type": "execute_result"
    }
   ],
   "source": [
    "dic"
   ]
  },
  {
   "cell_type": "code",
   "execution_count": 44,
   "metadata": {},
   "outputs": [
    {
     "name": "stdout",
     "output_type": "stream",
     "text": [
      "3\n",
      "4\n",
      "3\n",
      "2\n",
      "-1\n"
     ]
    }
   ],
   "source": [
    "n=int(input())\n",
    "R=[]\n",
    "for i in range(n):\n",
    "    R.append(int(input()))\n",
    "Rmin=R[0]\n",
    "Rmax=-2000000000\n",
    "for i in range(1,n):\n",
    "    Rmax=max(Rmax,R[i]-Rmin)\n",
    "    Rmin=min(Rmin,R[i])\n",
    "print(Rmax)\n",
    "    \n",
    "    "
   ]
  },
  {
   "cell_type": "markdown",
   "metadata": {},
   "source": [
    "# 問題文\n",
    "高橋君は、社員が N 人いる会社の社長です。高橋君の会社では、以下のように給料が決まっています。\n",
    "\n",
    "高橋君を含む社員の全員が、 1 から N までの社員番号を持っている。高橋君の社員番号はもちろん 1である。\n",
    "高橋君以外の社員には、必ず自分より社員番号が小さい上司がただ一人存在する。自分が上司になっている社員のことを、直属の部下と呼ぶ。\n",
    "直属の部下がいない社員の給料は 1 であり、直属の部下がいる社員の給料は 、\n",
    "max(その社員の直属の部下の給料)+min(その社員の直属の部下の給料)+1\n",
    " である。直属の部下が一人しかいない場合は、その部下の給料の 2 倍 + 1 が、その社員の給料となる。\n",
    "この時、高橋君の給料を求めなさい。"
   ]
  },
  {
   "cell_type": "code",
   "execution_count": 55,
   "metadata": {},
   "outputs": [
    {
     "name": "stdout",
     "output_type": "stream",
     "text": [
      "7\n",
      "1\n",
      "1\n",
      "2\n",
      "2\n",
      "3\n",
      "3\n"
     ]
    }
   ],
   "source": [
    "n=int(input())\n",
    "B=[]\n",
    "D={}\n",
    "for i in range(0,n-1):\n",
    "    B.append(int(input()))\n",
    "    if B[i] not in D:\n",
    "        D[B[i]]=[]\n",
    "        D[B[i]].append(i+2)\n",
    "    else:\n",
    "        D[B[i]].append(i+2)\n",
    "# Dに、key:社員番号   value:部下番号　が格納される keyにない職員の給料は１\n"
   ]
  },
  {
   "cell_type": "code",
   "execution_count": 56,
   "metadata": {},
   "outputs": [
    {
     "name": "stdout",
     "output_type": "stream",
     "text": [
      "[1, 1, 2, 2, 3, 3] {1: [2, 3], 2: [4, 5], 3: [6, 7]}\n"
     ]
    }
   ],
   "source": [
    "print(B,D)"
   ]
  },
  {
   "cell_type": "code",
   "execution_count": 61,
   "metadata": {},
   "outputs": [
    {
     "data": {
      "text/plain": [
       "3"
      ]
     },
     "execution_count": 61,
     "metadata": {},
     "output_type": "execute_result"
    }
   ],
   "source": [
    "max(D.keys())"
   ]
  },
  {
   "cell_type": "code",
   "execution_count": 65,
   "metadata": {},
   "outputs": [
    {
     "name": "stdout",
     "output_type": "stream",
     "text": [
      "4\n",
      "5\n",
      "6\n",
      "7\n"
     ]
    }
   ],
   "source": [
    "#給料を初期化(=0)\n",
    "IC=[0 for i in range(n+1)]\n",
    "#部下のいない職員の給料を1にする\n",
    "for i in range(max(D.keys())+1,n+1):\n",
    "    print(i)\n",
    "    IC[i]=1"
   ]
  },
  {
   "cell_type": "code",
   "execution_count": null,
   "metadata": {},
   "outputs": [
    {
     "name": "stdout",
     "output_type": "stream",
     "text": [
      "6\n",
      "1\n"
     ]
    }
   ],
   "source": [
    "n=int(input())\n",
    "B=[]\n",
    "D={}\n",
    "for i in range(0,n-1):\n",
    "    B.append(int(input()))\n",
    "    if B[i] not in D:\n",
    "        D[B[i]]=[]\n",
    "        D[B[i]].append(i+2)\n",
    "    else:\n",
    "        D[B[i]].append(i+2)\n",
    "# Dに、key:社員番号   value:部下番号　が格納される keyにない職員の給料は１\n",
    "\n",
    "#給料を初期化(=0)\n",
    "IC=[[] for j in range(n+1)]\n",
    "\n",
    "#部下のいない職員の給料を1にする\n",
    "for k in range(max(D.keys())+1,n+1):\n",
    "    IC[k]=1\n",
    "    \n",
    "#社員番号が大きい上司はいない⇨社員番号が大きい方から給料計算すればよい\n",
    "sortdict = sorted(D.items(),reverse=True)\n",
    "for idd,value in sortdict:\n",
    "    ma=0\n",
    "    mi=10000000\n",
    "    for l in value:\n",
    "        ma=max(ma,IC[l])\n",
    "        mi=min(mi,IC[l])\n",
    "    IC[idd]=1+ma+mi\n",
    "print(IC[1])"
   ]
  },
  {
   "cell_type": "code",
   "execution_count": 98,
   "metadata": {},
   "outputs": [
    {
     "name": "stdout",
     "output_type": "stream",
     "text": [
      "[(3, [5]), (2, [4]), (1, [2, 3])] {1: [2, 3], 2: [4], 3: [5]} 3 3 [[], 7, 3, 3, 1, 1]\n"
     ]
    }
   ],
   "source": [
    "print(sortdict,D,ma,mi,IC)"
   ]
  },
  {
   "cell_type": "code",
   "execution_count": 4,
   "metadata": {},
   "outputs": [
    {
     "name": "stdout",
     "output_type": "stream",
     "text": [
      "5 4\n",
      "4\n"
     ]
    }
   ],
   "source": [
    "a,b=map(int,input().split())\n",
    "print(str(a-(b<a)))"
   ]
  },
  {
   "cell_type": "code",
   "execution_count": 35,
   "metadata": {},
   "outputs": [],
   "source": [
    "def persistence(n):\n",
    "    A=[]\n",
    "    N=str(n)\n",
    "    c=0\n",
    "    for i in range(len(N)):\n",
    "        A.append(N[i])\n",
    "    while len(A)>1:\n",
    "        c+=1\n",
    "        b=1\n",
    "        for j in A:\n",
    "            b=b*int(j)\n",
    "        if len(str(b))==1 :\n",
    "            return c\n",
    "        A=[]\n",
    "        N=str(b)\n",
    "        for i in range(len(N)):\n",
    "            A.append(N[i])\n",
    "    return 0"
   ]
  },
  {
   "cell_type": "code",
   "execution_count": 42,
   "metadata": {},
   "outputs": [
    {
     "data": {
      "text/plain": [
       "3"
      ]
     },
     "execution_count": 42,
     "metadata": {},
     "output_type": "execute_result"
    }
   ],
   "source": [
    "persistence(39)"
   ]
  },
  {
   "cell_type": "code",
   "execution_count": 19,
   "metadata": {},
   "outputs": [
    {
     "ename": "NameError",
     "evalue": "name 'A' is not defined",
     "output_type": "error",
     "traceback": [
      "\u001b[0;31m---------------------------------------------------------------------------\u001b[0m",
      "\u001b[0;31mNameError\u001b[0m                                 Traceback (most recent call last)",
      "\u001b[0;32m<ipython-input-19-7d157d7c000a>\u001b[0m in \u001b[0;36m<module>\u001b[0;34m\u001b[0m\n\u001b[0;32m----> 1\u001b[0;31m \u001b[0mA\u001b[0m\u001b[0;34m\u001b[0m\u001b[0;34m\u001b[0m\u001b[0m\n\u001b[0m",
      "\u001b[0;31mNameError\u001b[0m: name 'A' is not defined"
     ]
    }
   ],
   "source": [
    "A"
   ]
  },
  {
   "cell_type": "code",
   "execution_count": 43,
   "metadata": {},
   "outputs": [
    {
     "name": "stdout",
     "output_type": "stream",
     "text": [
      "9\n"
     ]
    }
   ],
   "source": [
    "print(9)"
   ]
  },
  {
   "cell_type": "code",
   "execution_count": 47,
   "metadata": {},
   "outputs": [
    {
     "name": "stdout",
     "output_type": "stream",
     "text": [
      "SSR\n",
      "SSR\n",
      "3\n"
     ]
    }
   ],
   "source": [
    "S=input()\n",
    "T=input()\n",
    "a=0\n",
    "for i in range(3):\n",
    "    if S[i]==T[i]:\n",
    "        a+=1\n",
    "print(a)"
   ]
  },
  {
   "cell_type": "code",
   "execution_count": 53,
   "metadata": {},
   "outputs": [
    {
     "name": "stdout",
     "output_type": "stream",
     "text": [
      "8 8\n",
      "1\n"
     ]
    }
   ],
   "source": [
    "A,B=map(int,input().split())\n",
    "y=(B-1)%(A-1)\n",
    "x=(B-1)//(A-1)\n",
    "X=0\n",
    "if y==0:\n",
    "    X=x\n",
    "else:\n",
    "    X=x+1\n",
    "print(X)"
   ]
  },
  {
   "cell_type": "code",
   "execution_count": 49,
   "metadata": {},
   "outputs": [
    {
     "name": "stdout",
     "output_type": "stream",
     "text": [
      "5 3\n"
     ]
    }
   ],
   "source": [
    "print(A,B)"
   ]
  },
  {
   "cell_type": "code",
   "execution_count": 71,
   "metadata": {},
   "outputs": [
    {
     "name": "stdout",
     "output_type": "stream",
     "text": [
      "4\n",
      "1 2 3 4\n",
      "0\n"
     ]
    }
   ],
   "source": [
    "N=int(input())\n",
    "H = list(map(int,input().split()))\n",
    "A=0\n",
    "B=[]\n",
    "for i in range(N-1):\n",
    "    if H[i]>=H[i+1]:\n",
    "        A+=1\n",
    "    else: \n",
    "        B.append(A)\n",
    "        A=0\n",
    "B.append(A)\n",
    "print(max(B))\n",
    "        "
   ]
  },
  {
   "cell_type": "code",
   "execution_count": 68,
   "metadata": {},
   "outputs": [
    {
     "name": "stdout",
     "output_type": "stream",
     "text": [
      "5 [10, 4, 8, 7, 3] 2 [1] 3\n"
     ]
    }
   ],
   "source": [
    "print(N,H,A,B,i)"
   ]
  },
  {
   "cell_type": "code",
   "execution_count": 75,
   "metadata": {},
   "outputs": [
    {
     "name": "stdout",
     "output_type": "stream",
     "text": [
      "13\n",
      "78\n"
     ]
    }
   ],
   "source": [
    "n=int(input())\n",
    "X=(1+n-1)*(n-1)//2\n",
    "print(X)"
   ]
  },
  {
   "cell_type": "markdown",
   "metadata": {},
   "source": [
    "# 問題文\n",
    "黒板に, \n",
    "3\n",
    " つの正の整数 \n",
    "A\n",
    ",\n",
    "B\n",
    ",\n",
    "C\n",
    " が書かれています. E869120 君は, 以下の操作を \n",
    "K\n",
    " 回行います.\n",
    "\n",
    "黒板に書かれている整数のうち \n",
    "1\n",
    " つを選び, これを \n",
    "2\n",
    " 倍した値に書き換える.\n",
    "さて, \n",
    "K\n",
    " 回の操作を終えた後の, 黒板に書かれる整数の合計としてありうる最大の値はいくつでしょうか？\n",
    "\n",
    "制約\n",
    "A\n",
    ",\n",
    "B\n",
    ",\n",
    "C\n",
    " は \n",
    "1\n",
    " 以上 \n",
    "50\n",
    " 以下の整数\n",
    "K\n",
    " は \n",
    "1\n",
    " 以上 \n",
    "10\n",
    " 以下の整数\n",
    "\n",
    "入力\n",
    "入力は以下の形式で標準入力から与えられる.\n",
    "\n",
    "A B C\n",
    "K\n",
    "\n",
    "出力\n",
    "E869120 君が \n",
    "K\n",
    " 回の操作を終えた後の, 黒板に書かれる整数の合計としてありうる最大の値を出力しなさい."
   ]
  },
  {
   "cell_type": "code",
   "execution_count": 18,
   "metadata": {},
   "outputs": [
    {
     "name": "stdout",
     "output_type": "stream",
     "text": [
      "3 3 4\n",
      "2\n"
     ]
    }
   ],
   "source": [
    "L =list(map(int,input().split()))\n",
    "K = int(input())\n",
    "M = max(L)\n",
    "S = sum(L) - M + M*(2**K)"
   ]
  },
  {
   "cell_type": "code",
   "execution_count": 19,
   "metadata": {},
   "outputs": [
    {
     "data": {
      "text/plain": [
       "([3, 3, 4], 2, 4, 22)"
      ]
     },
     "execution_count": 19,
     "metadata": {},
     "output_type": "execute_result"
    }
   ],
   "source": [
    "L,K,M,S"
   ]
  },
  {
   "cell_type": "markdown",
   "metadata": {},
   "source": [
    "問題文\n",
    "パティシエの赤木さんは、「お菓子の素」という粉のみを材料として \n",
    "N\n",
    " 種類のドーナツを作ることができます。これらのドーナツはドーナツ \n",
    "1\n",
    "、ドーナツ \n",
    "2\n",
    "、\n",
    ".\n",
    ".\n",
    ".\n",
    "、ドーナツ \n",
    "N\n",
    " と呼ばれます。ドーナツ \n",
    "i\n",
    " \n",
    "(\n",
    "1\n",
    "≤\n",
    "i\n",
    "≤\n",
    "N\n",
    ")\n",
    " を \n",
    "1\n",
    " 個作るには、お菓子の素 \n",
    "m\n",
    "i\n",
    " グラムを消費する必要があります。なお、\n",
    "0.5\n",
    " 個など整数でない個数のドーナツを作ることはできません。\n",
    "\n",
    "いま、赤木さんはお菓子の素を \n",
    "X\n",
    " グラム持っています。これを使って、今夜のパーティーに向けて可能な限りたくさんのドーナツを作ることにしました。ただし、来客の味の好みは様々なので、次の条件を守ることにしました。\n",
    "\n",
    "N\n",
    " 種類のドーナツそれぞれを少なくとも \n",
    "1\n",
    " 個は作る。\n",
    "このとき、最大で何個のドーナツを作ることができるでしょうか？お菓子の素を使い切る必要はありません。また、この問題の制約のもとでは、条件を守ることは必ず可能です。\n",
    "\n",
    "制約\n",
    "2\n",
    "≤\n",
    "N\n",
    "≤\n",
    "100\n",
    "1\n",
    "≤\n",
    "m\n",
    "i\n",
    "≤\n",
    "1000\n",
    "m\n",
    "1\n",
    "+\n",
    "m\n",
    "2\n",
    "+\n",
    ".\n",
    ".\n",
    ".\n",
    "+\n",
    "m\n",
    "N\n",
    "≤\n",
    "X\n",
    "≤\n",
    "10\n",
    "5\n",
    "入力中のすべての値は整数である。"
   ]
  },
  {
   "cell_type": "markdown",
   "metadata": {},
   "source": [
    "入力\n",
    "入力は以下の形式で標準入力から与えられる。\n",
    "\n",
    "N X\n",
    "\n",
    "m1\n",
    "\n",
    "m2\n",
    ":\n",
    "mN\n",
    "\n",
    "出力\n",
    "条件を守って作ることのできるドーナツの最大の個数を出力せよ。\n",
    "\n"
   ]
  },
  {
   "cell_type": "code",
   "execution_count": 35,
   "metadata": {},
   "outputs": [
    {
     "name": "stdout",
     "output_type": "stream",
     "text": [
      "3 1000\n",
      "120\n",
      "100\n",
      "140\n"
     ]
    }
   ],
   "source": [
    "N,X =(map(int,input().split()))\n",
    "D=[]\n",
    "for i in range(N):\n",
    "    D.append(int(input()))\n",
    "M = N +(X-sum(D))//min(D)\n",
    "print(M)"
   ]
  },
  {
   "cell_type": "code",
   "execution_count": 36,
   "metadata": {},
   "outputs": [
    {
     "data": {
      "text/plain": [
       "(3, 1000, [120, 100, 140])"
      ]
     },
     "execution_count": 36,
     "metadata": {},
     "output_type": "execute_result"
    }
   ],
   "source": [
    "N,X,D"
   ]
  },
  {
   "cell_type": "code",
   "execution_count": 37,
   "metadata": {},
   "outputs": [
    {
     "data": {
      "text/plain": [
       "9"
      ]
     },
     "execution_count": 37,
     "metadata": {},
     "output_type": "execute_result"
    }
   ],
   "source": [
    "M"
   ]
  },
  {
   "cell_type": "markdown",
   "metadata": {},
   "source": [
    "# 問題文 ABC049B\n",
    "N\n",
    "+\n",
    "1\n",
    " 個のマスが左右に一列に並んでいます． これらのマスには，左のマスから順に \n",
    "0\n",
    ",\n",
    "1\n",
    ",\n",
    ".\n",
    ".\n",
    ".\n",
    ",\n",
    "N\n",
    " の番号が付けられています．\n",
    "\n",
    "あなたは，最初マス \n",
    "X\n",
    " にいます． 隣り合うマスの間は自由に移動することができ，マス \n",
    "0\n",
    " またはマス \n",
    "N\n",
    " にたどり着くとゴールすることができます． ただし，\n",
    "i\n",
    "=\n",
    "1\n",
    ",\n",
    "2\n",
    ",\n",
    ".\n",
    ".\n",
    ".\n",
    ",\n",
    "M\n",
    " について，マス \n",
    "A\n",
    "i\n",
    " には料金所があり，そのためマス \n",
    "A\n",
    "i\n",
    " に移動してくる際には \n",
    "1\n",
    " のコストがかかります． なお，マス \n",
    "0\n",
    "，マス \n",
    "X\n",
    "，マス \n",
    "N\n",
    " には料金所がないことが保証されます．\n",
    "\n",
    "ゴールするまでにかかるコストの最小値を求めてください．\n",
    "\n",
    "制約\n",
    "1\n",
    "≤\n",
    "N\n",
    "≤\n",
    "100\n",
    "1\n",
    "≤\n",
    "M\n",
    "≤\n",
    "100\n",
    "1\n",
    "≤\n",
    "X\n",
    "≤\n",
    "N\n",
    "−\n",
    "1\n",
    "1\n",
    "≤\n",
    "A\n",
    "1\n",
    "<\n",
    "A\n",
    "2\n",
    "<\n",
    ".\n",
    ".\n",
    ".\n",
    "<\n",
    "A\n",
    "M\n",
    "≤\n",
    "N\n",
    "−\n",
    "1\n",
    "A\n",
    "i\n",
    "≠\n",
    "X\n",
    "入力はすべて整数\n",
    "入力\n",
    "入力は以下の形式で標準入力から与えられる。\n",
    "\n",
    "N M X\n",
    "\n",
    "A1 A2 ... AM\n",
    "\n",
    "出力\n",
    "ゴールするまでにかかるコストの最小値を出力せよ．\n",
    "\n"
   ]
  },
  {
   "cell_type": "code",
   "execution_count": 45,
   "metadata": {},
   "outputs": [
    {
     "name": "stdout",
     "output_type": "stream",
     "text": [
      "10 7 5\n",
      "1 2 3 4 6 8 9\n"
     ]
    },
    {
     "data": {
      "text/plain": [
       "3"
      ]
     },
     "execution_count": 45,
     "metadata": {},
     "output_type": "execute_result"
    }
   ],
   "source": [
    "N,M,X =(map(int,input().split()))\n",
    "A =list(map(int,input().split()))\n",
    "min(sum(a>X for a in A),sum(a<X for a in A))"
   ]
  },
  {
   "cell_type": "code",
   "execution_count": 39,
   "metadata": {},
   "outputs": [
    {
     "data": {
      "text/plain": [
       "(5, 3, 3, [1, 2, 4])"
      ]
     },
     "execution_count": 39,
     "metadata": {},
     "output_type": "execute_result"
    }
   ],
   "source": [
    "N,M,X,A"
   ]
  },
  {
   "cell_type": "markdown",
   "metadata": {},
   "source": [
    "問題文\n",
    "以下を満たす整数をすべて昇順に出力してください。\n",
    "\n",
    "A\n",
    " 以上 \n",
    "B\n",
    " 以下の整数の中で、小さい方から \n",
    "K\n",
    " 番目以内であるか、大きい方から \n",
    "K\n",
    " 番目以内である\n",
    "制約\n",
    "1\n",
    "≤\n",
    "A\n",
    "≤\n",
    "B\n",
    "≤\n",
    "10\n",
    "9\n",
    "1\n",
    "≤\n",
    "K\n",
    "≤\n",
    "100\n",
    "入力はすべて整数である\n",
    "入力\n",
    "入力は以下の形式で標準入力から与えられる。\n",
    "\n",
    "A B K\n",
    "\n",
    "出力\n",
    "上の条件を満たす整数をすべて昇順に出力せよ。\n",
    "\n"
   ]
  },
  {
   "cell_type": "code",
   "execution_count": 115,
   "metadata": {
    "scrolled": true
   },
   "outputs": [
    {
     "name": "stdout",
     "output_type": "stream",
     "text": [
      "5 90 5\n",
      "5\n",
      "6\n",
      "7\n",
      "8\n",
      "9\n",
      "86\n",
      "87\n",
      "88\n",
      "89\n",
      "90\n"
     ]
    }
   ],
   "source": [
    "A,B,K =(map(int,input().split()))\n",
    "TL = list(range(A,B+1))\n",
    "L = [i for i in TL if ((i>=A) and i<=A+K-1)] \n",
    "LU =  [i for i in TL if  ((i>=B-K+1) and i<=B)] \n",
    "#L.append( [i for i in TL if ((i<=B) and (i>=B-K))])\n",
    "LL = set(L + LU)\n",
    "for i in LL:\n",
    "    print(i)"
   ]
  },
  {
   "cell_type": "code",
   "execution_count": 116,
   "metadata": {},
   "outputs": [
    {
     "name": "stdout",
     "output_type": "stream",
     "text": [
      "3 5 2\n",
      "3\n",
      "4\n",
      "5\n"
     ]
    }
   ],
   "source": [
    "a, b, k = map(int,input().split())\n",
    "for i in range(a, min(a + k, b + 1)):\n",
    "    print(i)\n",
    "for i in range(max(b - k + 1, a + k), b + 1):\n",
    "    print(i)"
   ]
  },
  {
   "cell_type": "code",
   "execution_count": 108,
   "metadata": {},
   "outputs": [
    {
     "data": {
      "text/plain": [
       "[2, 3, 4, 5, 6, 7, 8, 9]"
      ]
     },
     "execution_count": 108,
     "metadata": {},
     "output_type": "execute_result"
    }
   ],
   "source": [
    "L"
   ]
  },
  {
   "cell_type": "code",
   "execution_count": 109,
   "metadata": {},
   "outputs": [
    {
     "data": {
      "text/plain": [
       "[2, 3, 4, 5, 6, 7, 8, 9]"
      ]
     },
     "execution_count": 109,
     "metadata": {},
     "output_type": "execute_result"
    }
   ],
   "source": [
    "LU"
   ]
  },
  {
   "cell_type": "code",
   "execution_count": 110,
   "metadata": {},
   "outputs": [
    {
     "data": {
      "text/plain": [
       "{4, 5, 6, 7, 8}"
      ]
     },
     "execution_count": 110,
     "metadata": {},
     "output_type": "execute_result"
    }
   ],
   "source": [
    "LL"
   ]
  },
  {
   "cell_type": "code",
   "execution_count": null,
   "metadata": {},
   "outputs": [],
   "source": []
  }
 ],
 "metadata": {
  "kernelspec": {
   "display_name": "Python 3",
   "language": "python",
   "name": "python3"
  },
  "language_info": {
   "codemirror_mode": {
    "name": "ipython",
    "version": 3
   },
   "file_extension": ".py",
   "mimetype": "text/x-python",
   "name": "python",
   "nbconvert_exporter": "python",
   "pygments_lexer": "ipython3",
   "version": "3.7.1"
  }
 },
 "nbformat": 4,
 "nbformat_minor": 2
}
